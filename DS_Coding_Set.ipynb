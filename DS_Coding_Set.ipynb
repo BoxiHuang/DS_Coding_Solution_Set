{
 "cells": [
  {
   "cell_type": "markdown",
   "metadata": {},
   "source": [
    "### 1. Compute Deviation\n",
    "\n",
    "Write a function that takes in a list of dictionaries with a key and list of integers and returns a dictionary with the standard deviation of each list.\n",
    "\n",
    "Note that this should be done without using the numpy built in functions.\n",
    "\n",
    "Example:\n",
    "\n",
    "input = [\n",
    "    {\n",
    "        'key': 'list1',\n",
    "        'values': [4,5,2,3,4,5,2,3],\n",
    "    },\n",
    "    {\n",
    "        'key': 'list2',\n",
    "        'values': [1,1,34,12,40,3,9,7],\n",
    "    }\n",
    "]\n",
    "\n",
    "output -> {'list1': 1.12, 'list2': 14.19}\n"
   ]
  },
  {
   "cell_type": "code",
   "execution_count": 97,
   "metadata": {},
   "outputs": [],
   "source": [
    "import math\n",
    "\n",
    "def deviation(l):\n",
    "    if not l:\n",
    "        return None\n",
    "    key, value, std_value, final = [], [], [], {}\n",
    "    # taking values out from input dictionary\n",
    "    for li in l:\n",
    "        for k, v in li.items():\n",
    "            if k =='key':\n",
    "                key.append(v)\n",
    "            if k =='values':\n",
    "                value.append(v)\n",
    "    \n",
    "    # Calculate STD value\n",
    "    for i in range(len(value)):\n",
    "        mean = sum(value[i])/len(value[i])\n",
    "        var = sum(pow(x - mean, 2) for x in value[i])/len(value[i])\n",
    "        std_value.append(round(math.sqrt(var),2))\n",
    "        \n",
    "    # Final dictionary Generated\n",
    "    for k, std in zip(key, std_value):\n",
    "        final[k] = std\n",
    "        \n",
    "    \n",
    "    return final"
   ]
  },
  {
   "cell_type": "code",
   "execution_count": 98,
   "metadata": {},
   "outputs": [
    {
     "name": "stdout",
     "output_type": "stream",
     "text": [
      "{'list1': 1.12, 'list2': 14.19}\n"
     ]
    }
   ],
   "source": [
    "print(deviation([ { 'key': 'list1', 'values': [4,5,2,3,4,5,2,3], }, { 'key': 'list2', 'values': [1,1,34,12,40,3,9,7], } ]\n",
    "    ))"
   ]
  },
  {
   "cell_type": "markdown",
   "metadata": {},
   "source": [
    "### 2: Multimodal Sample\n",
    "Write a function for sampling from a multimodal distribution. \n",
    "\n",
    "Inputs are keys (i.e. green, red, blue), weights (i.e. 2, 3, 5.5), and the number of samples drawn from the distribution. The output should return the keys of the samples. \n",
    "\n",
    "Example Input:\n",
    "\n",
    "keys = ['green', 'red', 'blue']\n",
    "weights = [1, 10, 2]\n",
    "n = 5\n",
    "sample_multimodal(keys, weights, n)\n",
    " \n",
    "\n",
    "Output\n",
    "\n",
    "['blue', 'red', 'red', 'green', 'red']"
   ]
  },
  {
   "cell_type": "code",
   "execution_count": 99,
   "metadata": {},
   "outputs": [],
   "source": [
    "import random\n",
    "import numpy as np\n",
    "\n",
    "def sample_multimodal(keys, weights, n):\n",
    "    # Multimodal Sampling: \n",
    "    #Find the cumulative weight probability by dividing each weight by the total sum of weights\n",
    "    \n",
    "    weight_prob  = np.cumsum((np.array(weights)/np.sum(weights)))\n",
    "    return [keys[ np.sum(weight_prob < random.random() )] for _ in range(n)]"
   ]
  },
  {
   "cell_type": "code",
   "execution_count": 100,
   "metadata": {},
   "outputs": [
    {
     "name": "stdout",
     "output_type": "stream",
     "text": [
      "['red', 'red', 'red', 'red', 'red']\n"
     ]
    }
   ],
   "source": [
    "keys = ['green', 'red', 'blue'] \n",
    "weights = [1, 10, 2] \n",
    "n = 5\n",
    "print(sample_multimodal(keys, weights, n))"
   ]
  },
  {
   "cell_type": "markdown",
   "metadata": {},
   "source": [
    "### 3. Weekly Aggregation\n",
    "uestion\n",
    "Given a list of timestamps in sequential order, return a list of lists grouped by week (7 days) using the first timestamp as the starting point.\n",
    "\n",
    "Example:\n",
    "\n",
    "ts = [\n",
    "    '2019-01-01', \n",
    "    '2019-01-02',\n",
    "    '2019-01-08', \n",
    "    '2019-02-01', \n",
    "    '2019-02-02',\n",
    "    '2019-02-05',\n",
    "]\n",
    "\n",
    "output = [\n",
    "    ['2019-01-01', '2019-01-02'], \n",
    "    ['2019-01-08'], \n",
    "    ['2019-02-01', '2019-02-02'],\n",
    "    ['2019-02-05'],\n",
    "]\n"
   ]
  },
  {
   "cell_type": "code",
   "execution_count": 101,
   "metadata": {},
   "outputs": [],
   "source": [
    "#from datetime import datetime\n",
    "import datetime\n",
    "import collections\n",
    "\n",
    "def read_date(date):\n",
    "    return datetime.datetime.strptime(date, \"%Y-%m-%d\")\n",
    "\n",
    "def weeks_from_date(starting_point, week):\n",
    "    delta = read_date(starting_point) - read_date(week)\n",
    "    return delta.days // 7\n",
    "\n",
    "def group_by_weeks(ts):\n",
    "    starting_date = ts[0]\n",
    "    grouped = collections.defaultdict(list)\n",
    "    for date in ts:\n",
    "        grouped[weeks_from_date(starting_date, date)].append(date)\n",
    "    \n",
    "    final = []\n",
    "    for i in grouped.values():\n",
    "        final.append(i)\n",
    "        \n",
    "    return final"
   ]
  },
  {
   "cell_type": "code",
   "execution_count": 102,
   "metadata": {},
   "outputs": [
    {
     "name": "stdout",
     "output_type": "stream",
     "text": [
      "[['2019-01-01'], ['2019-01-02', '2019-01-08'], ['2019-02-01', '2019-02-02', '2019-02-05']]\n"
     ]
    }
   ],
   "source": [
    "print(group_by_weeks([ '2019-01-01', '2019-01-02', '2019-01-08', '2019-02-01', '2019-02-02', '2019-02-05']))"
   ]
  },
  {
   "cell_type": "markdown",
   "metadata": {},
   "source": [
    "### 4. String Subsequence\n",
    "Question\n",
    "Given two strings, string1 and string2, find out if string1 is a subsequence of string2.\n",
    "\n",
    "A subsequence is a sequence that can be derived from another sequence by deleting some elements without changing the order of the remaining elements.\n",
    "\n",
    "Example:\n",
    "\n",
    "string1 = 'abc'\n",
    "string2 = 'asbsc'\n",
    "string3 = 'acedb'\n",
    "\n",
    "isSubSequence(string1, string2) -> True\n",
    "isSubSequence(string1, string3) -> False"
   ]
  },
  {
   "cell_type": "code",
   "execution_count": 103,
   "metadata": {},
   "outputs": [],
   "source": [
    "def isSubSequence(s1, s2):\n",
    "    i, j = 0, 0\n",
    "    while i < len(s1) and j < len(s2):\n",
    "        if s1[i] == s2[j]:\n",
    "            i += 1 \n",
    "            j += 1 \n",
    "        else:\n",
    "            j += 1 \n",
    "    \n",
    "    if i == len(s1):\n",
    "        return True\n",
    "    else:\n",
    "        return False      "
   ]
  },
  {
   "cell_type": "code",
   "execution_count": 104,
   "metadata": {},
   "outputs": [
    {
     "name": "stdout",
     "output_type": "stream",
     "text": [
      "True\n",
      "False\n"
     ]
    }
   ],
   "source": [
    "print(isSubSequence('abc','asbsc'))\n",
    "print(isSubSequence('asbsc','acedb'))"
   ]
  },
  {
   "cell_type": "markdown",
   "metadata": {},
   "source": [
    "### 5. Find Bigrams\n",
    "Write a function that can take a string and return a list of bigrams.\n",
    "\n",
    "Example:\n",
    "\n",
    "sentence = \"\"\"\n",
    "Have free hours and love children? \n",
    "Drive kids to school, soccer practice \n",
    "and other activities.\n",
    "\"\"\"\n",
    "\n",
    "output = [('have', 'free'),\n",
    " ('free', 'hours'),\n",
    " ('hours', 'and'),\n",
    " ('and', 'love'),\n",
    " ('love', 'children?'),\n",
    " ('children?', 'drive'),\n",
    " ('drive', 'kids'),\n",
    " ('kids', 'to'),\n",
    " ('to', 'school,'),\n",
    " ('school,', 'soccer'),\n",
    " ('soccer', 'practice'),\n",
    " ('practice', 'and'),\n",
    " ('and', 'other'),\n",
    " ('other', 'activities.')]"
   ]
  },
  {
   "cell_type": "code",
   "execution_count": 105,
   "metadata": {},
   "outputs": [],
   "source": [
    "def bigrams(s):\n",
    "    if not s:\n",
    "        return\n",
    "    result = []\n",
    "    word = s.split()\n",
    "    i, j = 0, 1\n",
    "    while j < len(word):\n",
    "        result.append((word[i], word[j]))\n",
    "        j += 1\n",
    "        i += 1\n",
    "\n",
    "    return result"
   ]
  },
  {
   "cell_type": "code",
   "execution_count": 106,
   "metadata": {},
   "outputs": [
    {
     "name": "stdout",
     "output_type": "stream",
     "text": [
      "[('Have', 'free'), ('free', 'hours'), ('hours', 'and'), ('and', 'love'), ('love', 'children?'), ('children?', 'Drive'), ('Drive', 'kids'), ('kids', 'to'), ('to', 'school,'), ('school,', 'soccer'), ('soccer', 'practice'), ('practice', 'and'), ('and', 'other'), ('other', 'activities.')]\n"
     ]
    }
   ],
   "source": [
    "print(bigrams(\" Have free hours and love children? Drive kids to school, soccer practice and other activities. \"))"
   ]
  },
  {
   "cell_type": "code",
   "execution_count": null,
   "metadata": {},
   "outputs": [],
   "source": []
  }
 ],
 "metadata": {
  "kernelspec": {
   "display_name": "Python 3",
   "language": "python",
   "name": "python3"
  },
  "language_info": {
   "codemirror_mode": {
    "name": "ipython",
    "version": 3
   },
   "file_extension": ".py",
   "mimetype": "text/x-python",
   "name": "python",
   "nbconvert_exporter": "python",
   "pygments_lexer": "ipython3",
   "version": "3.7.1"
  }
 },
 "nbformat": 4,
 "nbformat_minor": 2
}
