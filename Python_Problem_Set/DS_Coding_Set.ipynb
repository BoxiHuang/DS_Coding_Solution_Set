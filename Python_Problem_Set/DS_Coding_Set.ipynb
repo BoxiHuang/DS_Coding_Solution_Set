{
 "cells": [
  {
   "cell_type": "markdown",
   "metadata": {},
   "source": [
    "### 1. Compute Deviation\n",
    "\n",
    "Write a function that takes in a list of dictionaries with a key and list of integers and returns a dictionary with the standard deviation of each list.\n",
    "\n",
    "Note that this should be done without using the numpy built in functions.\n",
    "\n",
    "Example:\n",
    "\n",
    "input = [\n",
    "    {\n",
    "        'key': 'list1',\n",
    "        'values': [4,5,2,3,4,5,2,3],\n",
    "    },\n",
    "    {\n",
    "        'key': 'list2',\n",
    "        'values': [1,1,34,12,40,3,9,7],\n",
    "    }\n",
    "]\n",
    "\n",
    "output -> {'list1': 1.12, 'list2': 14.19}\n"
   ]
  },
  {
   "cell_type": "code",
   "execution_count": 97,
   "metadata": {},
   "outputs": [],
   "source": [
    "import math\n",
    "\n",
    "def deviation(l):\n",
    "    if not l:\n",
    "        return None\n",
    "    key, value, std_value, final = [], [], [], {}\n",
    "    # taking values out from input dictionary\n",
    "    for li in l:\n",
    "        for k, v in li.items():\n",
    "            if k =='key':\n",
    "                key.append(v)\n",
    "            if k =='values':\n",
    "                value.append(v)\n",
    "    \n",
    "    # Calculate STD value\n",
    "    for i in range(len(value)):\n",
    "        mean = sum(value[i])/len(value[i])\n",
    "        var = sum(pow(x - mean, 2) for x in value[i])/len(value[i])\n",
    "        std_value.append(round(math.sqrt(var),2))\n",
    "        \n",
    "    # Final dictionary Generated\n",
    "    for k, std in zip(key, std_value):\n",
    "        final[k] = std\n",
    "        \n",
    "    \n",
    "    return final"
   ]
  },
  {
   "cell_type": "code",
   "execution_count": 98,
   "metadata": {},
   "outputs": [
    {
     "name": "stdout",
     "output_type": "stream",
     "text": [
      "{'list1': 1.12, 'list2': 14.19}\n"
     ]
    }
   ],
   "source": [
    "print(deviation([ { 'key': 'list1', 'values': [4,5,2,3,4,5,2,3], }, { 'key': 'list2', 'values': [1,1,34,12,40,3,9,7], } ]\n",
    "    ))"
   ]
  },
  {
   "cell_type": "markdown",
   "metadata": {},
   "source": [
    "### 2: Multimodal Sample\n",
    "Write a function for sampling from a multimodal distribution. \n",
    "\n",
    "Inputs are keys (i.e. green, red, blue), weights (i.e. 2, 3, 5.5), and the number of samples drawn from the distribution. The output should return the keys of the samples. \n",
    "\n",
    "Example Input:\n",
    "\n",
    "keys = ['green', 'red', 'blue']\n",
    "weights = [1, 10, 2]\n",
    "n = 5\n",
    "sample_multimodal(keys, weights, n)\n",
    " \n",
    "\n",
    "Output\n",
    "\n",
    "['blue', 'red', 'red', 'green', 'red']"
   ]
  },
  {
   "cell_type": "code",
   "execution_count": 99,
   "metadata": {},
   "outputs": [],
   "source": [
    "import random\n",
    "import numpy as np\n",
    "\n",
    "def sample_multimodal(keys, weights, n):\n",
    "    # Multimodal Sampling: \n",
    "    #Find the cumulative weight probability by dividing each weight by the total sum of weights\n",
    "    \n",
    "    weight_prob  = np.cumsum((np.array(weights)/np.sum(weights)))\n",
    "    return [keys[ np.sum(weight_prob < random.random() )] for _ in range(n)]"
   ]
  },
  {
   "cell_type": "code",
   "execution_count": 100,
   "metadata": {},
   "outputs": [
    {
     "name": "stdout",
     "output_type": "stream",
     "text": [
      "['red', 'red', 'red', 'red', 'red']\n"
     ]
    }
   ],
   "source": [
    "keys = ['green', 'red', 'blue'] \n",
    "weights = [1, 10, 2] \n",
    "n = 5\n",
    "print(sample_multimodal(keys, weights, n))"
   ]
  },
  {
   "cell_type": "markdown",
   "metadata": {},
   "source": [
    "### 3. Weekly Aggregation\n",
    "uestion\n",
    "Given a list of timestamps in sequential order, return a list of lists grouped by week (7 days) using the first timestamp as the starting point.\n",
    "\n",
    "Example:\n",
    "\n",
    "ts = [\n",
    "    '2019-01-01', \n",
    "    '2019-01-02',\n",
    "    '2019-01-08', \n",
    "    '2019-02-01', \n",
    "    '2019-02-02',\n",
    "    '2019-02-05',\n",
    "]\n",
    "\n",
    "output = [\n",
    "    ['2019-01-01', '2019-01-02'], \n",
    "    ['2019-01-08'], \n",
    "    ['2019-02-01', '2019-02-02'],\n",
    "    ['2019-02-05'],\n",
    "]\n"
   ]
  },
  {
   "cell_type": "code",
   "execution_count": 101,
   "metadata": {},
   "outputs": [],
   "source": [
    "#from datetime import datetime\n",
    "import datetime\n",
    "import collections\n",
    "\n",
    "def read_date(date):\n",
    "    return datetime.datetime.strptime(date, \"%Y-%m-%d\")\n",
    "\n",
    "def weeks_from_date(starting_point, week):\n",
    "    delta = read_date(starting_point) - read_date(week)\n",
    "    return delta.days // 7\n",
    "\n",
    "def group_by_weeks(ts):\n",
    "    starting_date = ts[0]\n",
    "    grouped = collections.defaultdict(list)\n",
    "    for date in ts:\n",
    "        grouped[weeks_from_date(starting_date, date)].append(date)\n",
    "    \n",
    "    final = []\n",
    "    for i in grouped.values():\n",
    "        final.append(i)\n",
    "        \n",
    "    return final"
   ]
  },
  {
   "cell_type": "code",
   "execution_count": 102,
   "metadata": {},
   "outputs": [
    {
     "name": "stdout",
     "output_type": "stream",
     "text": [
      "[['2019-01-01'], ['2019-01-02', '2019-01-08'], ['2019-02-01', '2019-02-02', '2019-02-05']]\n"
     ]
    }
   ],
   "source": [
    "print(group_by_weeks([ '2019-01-01', '2019-01-02', '2019-01-08', '2019-02-01', '2019-02-02', '2019-02-05']))"
   ]
  },
  {
   "cell_type": "markdown",
   "metadata": {},
   "source": [
    "### 4. String Subsequence\n",
    "Question\n",
    "Given two strings, string1 and string2, find out if string1 is a subsequence of string2.\n",
    "\n",
    "A subsequence is a sequence that can be derived from another sequence by deleting some elements without changing the order of the remaining elements.\n",
    "\n",
    "Example:\n",
    "\n",
    "string1 = 'abc'\n",
    "string2 = 'asbsc'\n",
    "string3 = 'acedb'\n",
    "\n",
    "isSubSequence(string1, string2) -> True\n",
    "isSubSequence(string1, string3) -> False"
   ]
  },
  {
   "cell_type": "code",
   "execution_count": 103,
   "metadata": {},
   "outputs": [],
   "source": [
    "def isSubSequence(s1, s2):\n",
    "    i, j = 0, 0\n",
    "    while i < len(s1) and j < len(s2):\n",
    "        if s1[i] == s2[j]:\n",
    "            i += 1 \n",
    "            j += 1 \n",
    "        else:\n",
    "            j += 1 \n",
    "    \n",
    "    if i == len(s1):\n",
    "        return True\n",
    "    else:\n",
    "        return False      "
   ]
  },
  {
   "cell_type": "code",
   "execution_count": 104,
   "metadata": {},
   "outputs": [
    {
     "name": "stdout",
     "output_type": "stream",
     "text": [
      "True\n",
      "False\n"
     ]
    }
   ],
   "source": [
    "print(isSubSequence('abc','asbsc'))\n",
    "print(isSubSequence('asbsc','acedb'))"
   ]
  },
  {
   "cell_type": "markdown",
   "metadata": {},
   "source": [
    "### 5. Find Bigrams\n",
    "Write a function that can take a string and return a list of bigrams.\n",
    "\n",
    "Example:\n",
    "\n",
    "sentence = \"\"\"\n",
    "Have free hours and love children? \n",
    "Drive kids to school, soccer practice \n",
    "and other activities.\n",
    "\"\"\"\n",
    "\n",
    "output = [('have', 'free'),\n",
    " ('free', 'hours'),\n",
    " ('hours', 'and'),\n",
    " ('and', 'love'),\n",
    " ('love', 'children?'),\n",
    " ('children?', 'drive'),\n",
    " ('drive', 'kids'),\n",
    " ('kids', 'to'),\n",
    " ('to', 'school,'),\n",
    " ('school,', 'soccer'),\n",
    " ('soccer', 'practice'),\n",
    " ('practice', 'and'),\n",
    " ('and', 'other'),\n",
    " ('other', 'activities.')]"
   ]
  },
  {
   "cell_type": "code",
   "execution_count": 105,
   "metadata": {},
   "outputs": [],
   "source": [
    "def bigrams(s):\n",
    "    if not s:\n",
    "        return\n",
    "    result = []\n",
    "    word = s.split()\n",
    "    i, j = 0, 1\n",
    "    while j < len(word):\n",
    "        result.append((word[i], word[j]))\n",
    "        j += 1\n",
    "        i += 1\n",
    "\n",
    "    return result"
   ]
  },
  {
   "cell_type": "code",
   "execution_count": 106,
   "metadata": {},
   "outputs": [
    {
     "name": "stdout",
     "output_type": "stream",
     "text": [
      "[('Have', 'free'), ('free', 'hours'), ('hours', 'and'), ('and', 'love'), ('love', 'children?'), ('children?', 'Drive'), ('Drive', 'kids'), ('kids', 'to'), ('to', 'school,'), ('school,', 'soccer'), ('soccer', 'practice'), ('practice', 'and'), ('and', 'other'), ('other', 'activities.')]\n"
     ]
    }
   ],
   "source": [
    "print(bigrams(\" Have free hours and love children? Drive kids to school, soccer practice and other activities. \"))"
   ]
  },
  {
   "cell_type": "markdown",
   "metadata": {},
   "source": [
    "### 6. Buy and Sell\n",
    "1. Given a list of stock prices in ascending order by datetime, write a function that outputs the max profit by buying and selling at a specific interval.\n",
    "\n",
    "Example:\n",
    "\n",
    "stock_prices = [10,5,20,32,25,12]\n",
    "\n",
    "get_max_profit(stock_prices) -> 27\n",
    " \n",
    "\n",
    "2. Making it harder, given a list of stock prices and date times in ascending order by datetime, write a function that outputs the profit and start and end dates to buy and sell for max profit.\n",
    "\n",
    "stock_prices = [10,5,20,32,25,12]\n",
    "dts = [\n",
    "    '2019-01-01', \n",
    "    '2019-01-02',\n",
    "    '2019-01-03',\n",
    "    '2019-01-04',\n",
    "    '2019-01-05',\n",
    "    '2019-01-06',\n",
    "]\n",
    "\n",
    "get_profit_dates(stock_prices, dts) -> (27, '2019-01-02', '2019-01-04')"
   ]
  },
  {
   "cell_type": "code",
   "execution_count": 133,
   "metadata": {},
   "outputs": [],
   "source": [
    "def max_profit(prices):\n",
    "    min_price = float('inf')\n",
    "    profit = 0\n",
    "    \n",
    "    for i in range(len(prices)):    \n",
    "        min_price = min(min_price, prices[i])\n",
    "        profit = max(profit, prices[i] - min_price)\n",
    "    \n",
    "    return profit\n",
    "\n",
    "def get_profit_dates(prices, dts):\n",
    "    min_price = float('inf')\n",
    "    profit = 0\n",
    "    start = None\n",
    "    \n",
    "    for i in range(len(prices)):\n",
    "        if prices[i] < min_price:\n",
    "            start = dts[i]\n",
    "            min_price = prices[i]\n",
    "        \n",
    "        if prices[i] - min_price > profit:\n",
    "            end = dts[i]\n",
    "            profit = prices[i] - min_price\n",
    "    return [profit, start, end]"
   ]
  },
  {
   "cell_type": "code",
   "execution_count": 135,
   "metadata": {},
   "outputs": [
    {
     "name": "stdout",
     "output_type": "stream",
     "text": [
      "27\n",
      "[27, '2019-01-02', '2019-01-04']\n"
     ]
    }
   ],
   "source": [
    "# Subtask 1\n",
    "print(max_profit([10,5,20,32,25,12]))\n",
    "\n",
    "# Subtask 2\n",
    "stock_prices = [10,5,20,32,25,12] \n",
    "dts = [ '2019-01-01', '2019-01-02', '2019-01-03', '2019-01-04', '2019-01-05', '2019-01-06' ]\n",
    "print(get_profit_dates(stock_prices, dts))"
   ]
  },
  {
   "cell_type": "markdown",
   "metadata": {},
   "source": [
    "### 7. Merge Sorted Lists\n",
    "Question:\n",
    "\n",
    "Given two sorted lists, write a function to merge them into one sorted list.\n",
    "\n",
    "What's the time complexity?\n",
    "\n"
   ]
  },
  {
   "cell_type": "code",
   "execution_count": 142,
   "metadata": {},
   "outputs": [],
   "source": [
    "def merge(s1, s2):\n",
    "    if not s1:\n",
    "        return s2\n",
    "    if not s2:\n",
    "        return s1\n",
    "    \n",
    "    i, j, result = 0, 0, []\n",
    "    while i < len(s1) and j < len(s2):\n",
    "        if s1[i] < s2[j]:\n",
    "            result.append(s1[i])\n",
    "            i += 1\n",
    "        else:\n",
    "            result.append(s2[j])\n",
    "            j += 1\n",
    "            \n",
    "    while i < len(s1):\n",
    "        result.append(s1[i])\n",
    "        i += 1\n",
    "        \n",
    "    while j < len(s2):\n",
    "        result.append(s2[j])\n",
    "        j += 1 \n",
    "        \n",
    "    return result\n",
    "\n",
    "# Time Complexity: O(n)"
   ]
  },
  {
   "cell_type": "code",
   "execution_count": 143,
   "metadata": {},
   "outputs": [
    {
     "name": "stdout",
     "output_type": "stream",
     "text": [
      "[1, 2, 3, 4, 5, 6, 8]\n"
     ]
    }
   ],
   "source": [
    "s1 = [1,3,5]\n",
    "s2 = [2,4,6,8]\n",
    "print(merge(s1, s2))"
   ]
  },
  {
   "cell_type": "markdown",
   "metadata": {},
   "source": [
    "### 8. Move Zeros Back\n",
    "\n",
    "\n",
    "Question\n",
    "Write a function that can move all the zeros in an array of integers to the back of the array in place.\n",
    "\n",
    "Example:\n",
    "\n",
    "arr1 = [0,5,4,2,0,3]\n",
    "move_zeros(arr1) -> [5,4,2,3,0,0]"
   ]
  },
  {
   "cell_type": "code",
   "execution_count": 151,
   "metadata": {},
   "outputs": [],
   "source": [
    "def move_zeros(arr):\n",
    "    if not arr:\n",
    "        return \n",
    "    i, j = 0, 1\n",
    "    while j < len(arr):\n",
    "        if arr[j] != 0:\n",
    "            if arr[j] != arr[i]:\n",
    "                arr[i] = arr[j]\n",
    "                i += 1\n",
    "        j += 1\n",
    "    while i < len(arr):\n",
    "        arr[i] = 0\n",
    "        i += 1\n",
    "        \n",
    "    return arr\n"
   ]
  },
  {
   "cell_type": "code",
   "execution_count": 152,
   "metadata": {},
   "outputs": [
    {
     "name": "stdout",
     "output_type": "stream",
     "text": [
      "[5, 4, 2, 3, 0, 0]\n"
     ]
    }
   ],
   "source": [
    "print(move_zeros([0,5,4,2,0,3]))"
   ]
  },
  {
   "cell_type": "markdown",
   "metadata": {},
   "source": [
    "### 9. Linear Regression Parameters\n",
    "Question\n",
    "Given a matrix of X and Y values, write a function to generate a transposed matrix and estimate the parameters for linear regression.\n",
    "\n",
    "Example:\n",
    "\n",
    "Input:\n",
    "\n",
    "A = [[1, 5], [4,8], [5,9]]\n",
    "\n",
    "Output:\n",
    "\n",
    "A_T = [[1, 4, 5], [5, 8, 9]]\n",
    "\n",
    "α = 4\n",
    "\n",
    "β = 1\n",
    "\n",
    "ŷ = 1X + 4"
   ]
  },
  {
   "cell_type": "code",
   "execution_count": 162,
   "metadata": {},
   "outputs": [],
   "source": [
    "import numpy as np\n",
    "\n",
    "def transpose(arr):\n",
    "    input = np.array(arr)\n",
    "    return np.transpose(input)\n",
    "\n",
    "def linear_fit(arr):\n",
    "    a = 4\n",
    "    b = 1\n",
    "    return a* arr + b"
   ]
  },
  {
   "cell_type": "code",
   "execution_count": 164,
   "metadata": {},
   "outputs": [
    {
     "name": "stdout",
     "output_type": "stream",
     "text": [
      "[[1 4 5]\n",
      " [5 8 9]]\n",
      "[[ 5 17 21]\n",
      " [21 33 37]]\n"
     ]
    }
   ],
   "source": [
    "print(transpose([[1, 5], [4,8], [5,9]]))\n",
    "a = transpose([[1, 5], [4,8], [5,9]])\n",
    "print(linear_fit(a))"
   ]
  },
  {
   "cell_type": "markdown",
   "metadata": {},
   "source": [
    "### 10. Merge N Sorted Lists\n",
    "\n",
    "Given n sorted lists, create a combined list while maintaining sorted order.\n",
    "\n",
    "Example:\n",
    "\n",
    "A = [1,2,3,4,5,6]\n",
    "B = [2,5,7,8]\n",
    "C = [3,9,10,12]\n",
    "D = [0,1,2,8]\n",
    "\n",
    "output -> [0,1,1,2,2,3,3,4,5,5,6,7,8,8,9,10,12]"
   ]
  },
  {
   "cell_type": "code",
   "execution_count": 186,
   "metadata": {},
   "outputs": [],
   "source": [
    "def merge_n_list(arr):\n",
    "    d, result = {}, []\n",
    "    for sublist in arr:\n",
    "        for num in sublist:\n",
    "            d[num] = d.get(num, 0) + 1\n",
    "\n",
    "    for k, v in sorted(d.items()):\n",
    "        for _ in range(v):\n",
    "            result.append(k)\n",
    "\n",
    "    return result\n",
    "\n",
    "\n",
    "def merge_n_list_v2(arr):\n",
    "    d= []\n",
    "    for sublist in arr:\n",
    "        for num in sublist:\n",
    "            d.append(num)\n",
    "\n",
    "    return sorted(d)"
   ]
  },
  {
   "cell_type": "code",
   "execution_count": 187,
   "metadata": {},
   "outputs": [
    {
     "name": "stdout",
     "output_type": "stream",
     "text": [
      "[0, 1, 1, 2, 2, 2, 3, 3, 4, 5, 5, 6, 7, 8, 8, 9, 10, 12]\n",
      "[0, 1, 1, 2, 2, 2, 3, 3, 4, 5, 5, 6, 7, 8, 8, 9, 10, 12]\n"
     ]
    }
   ],
   "source": [
    "print(merge_n_list([[1,2,3,4,5,6],[2,5,7,8],[3,9,10,12],[0,1,2,8]]))\n",
    "print(merge_n_list_v2([[1,2,3,4,5,6],[2,5,7,8],[3,9,10,12],[0,1,2,8]]))"
   ]
  },
  {
   "cell_type": "markdown",
   "metadata": {},
   "source": [
    "### 11. Biggest Tip\n",
    "\n",
    "Given a list of user_ids and tips:\n",
    "\n",
    "user_ids = [103, 105, 105, 107, 106, 103, 102, 108, 107, 103, 102]\n",
    "\n",
    "tips = [2, 5, 1, 0, 2, 1, 1, 0, 0, 2, 2]\n"
   ]
  },
  {
   "cell_type": "code",
   "execution_count": 188,
   "metadata": {},
   "outputs": [],
   "source": [
    "def who_tip_max(id, tips):\n",
    "    if not id or not tips:\n",
    "        return\n",
    "    \n",
    "    max_tip = -float('inf')\n",
    "    target = None\n",
    "    for uid, tip in zip(id, tips):\n",
    "        if tip > max_tip:\n",
    "            target = uid\n",
    "            max_tip = tip\n",
    "    return target"
   ]
  },
  {
   "cell_type": "code",
   "execution_count": 190,
   "metadata": {},
   "outputs": [
    {
     "name": "stdout",
     "output_type": "stream",
     "text": [
      "User ID that tips the most:  105\n"
     ]
    }
   ],
   "source": [
    "user_ids = [103, 105, 105, 107, 106, 103, 102, 108, 107, 103, 102]\n",
    "\n",
    "tips = [2, 5, 1, 0, 2, 1, 1, 0, 0, 2, 2]\n",
    "\n",
    "print('User ID that tips the most: ', who_tip_max(user_ids,tips))"
   ]
  },
  {
   "cell_type": "markdown",
   "metadata": {},
   "source": [
    "### 12. New Resumes\n",
    "Question\n",
    "\n",
    "existing_ids = [15234, 20485, 34536, 95342, 94857]\n",
    "\n",
    "names = ['Calvin', 'Jason', 'Cindy', 'Kevin']\n",
    "\n",
    "urls = [\n",
    "    'domain.com/resume/15234', \n",
    "    'domain.com/resume/23645', \n",
    "    'domain.com/resume/64337', \n",
    "    'domain.com/resume/34536',\n",
    "]\n",
    "\n",
    "We have a list of existing ids that we have already scraped. Let's say we also have two lists, one of names and another of urls that correspond to the names in another list with the id of the names in the url.\n",
    "\n",
    "Write code in Python to return the names and ids that we haven't scraped yet.\n",
    "\n",
    "output = [('Jason', 23645), ('Cindy', 64337)]"
   ]
  },
  {
   "cell_type": "code",
   "execution_count": 222,
   "metadata": {},
   "outputs": [],
   "source": [
    "def get_unscraped(existing_ids, names, urls):\n",
    "    output = []\n",
    "    for pairs in zip(names, urls):\n",
    "        name = pairs[0]\n",
    "        split_str = pairs[1].split('/')\n",
    "        if int(split_str[-1]) not in existing_ids:\n",
    "            output.append((name, int(split_str[-1])))\n",
    "    return output"
   ]
  },
  {
   "cell_type": "code",
   "execution_count": 223,
   "metadata": {},
   "outputs": [
    {
     "name": "stdout",
     "output_type": "stream",
     "text": [
      "[('Jason', 23645), ('Cindy', 64337)]\n"
     ]
    }
   ],
   "source": [
    "existing_ids = [15234, 20485, 34536, 95342, 94857]\n",
    "names = ['Calvin', 'Jason', 'Cindy', 'Kevin']\n",
    "urls = [ 'domain.com/resume/15234', 'domain.com/resume/23645', 'domain.com/resume/64337', 'domain.com/resume/34536']\n",
    "print(get_unscraped(existing_ids, names, urls))"
   ]
  },
  {
   "cell_type": "markdown",
   "metadata": {},
   "source": [
    "### 13. Same Characters\n",
    "Given a list of strings, write a Python program to check whether each string has all the characters same or not. What is the complexity?\n",
    "\n",
    "Example:\n",
    "\n",
    "Input:\n",
    "\n",
    "string_list = ['bbbbb', 'abc', 'aaaaaaaab']\n",
    "Output: False\n",
    "\n",
    "string bbbbb has all the same characters\n",
    "string abc does not have all the same characters\n",
    "string aaaaaaaab does not have all the same characters"
   ]
  },
  {
   "cell_type": "code",
   "execution_count": 237,
   "metadata": {},
   "outputs": [],
   "source": [
    "def check_same_char(l):\n",
    "    if not l:\n",
    "        return \n",
    "    final = []\n",
    "    for i in range(len(l)):\n",
    "        char = set()\n",
    "        for letter in l[i]:\n",
    "            if letter not in char:\n",
    "                char.add(letter)\n",
    "        if len(char) == 1:\n",
    "            final.append('True')\n",
    "        else: \n",
    "            final.append('False')\n",
    "        \n",
    "    \n",
    "    for check in final:\n",
    "        if check =='False':\n",
    "            return False\n",
    "    return True\n",
    "            \n",
    "\n",
    "  "
   ]
  },
  {
   "cell_type": "code",
   "execution_count": 238,
   "metadata": {},
   "outputs": [
    {
     "name": "stdout",
     "output_type": "stream",
     "text": [
      "False\n",
      "False\n"
     ]
    }
   ],
   "source": [
    "print(check_same_char(['bbbbb', 'abc', 'aaaaaaaab']))\n",
    "print(check_same_char(['bbbbb', '', 'aaaaaaaa']))"
   ]
  },
  {
   "cell_type": "markdown",
   "metadata": {},
   "source": [
    "### 14. Target Value Search\n",
    "Question\n",
    "\n",
    "Suppose an array sorted in ascending order is rotated at some pivot unknown to you beforehand.\n",
    "\n",
    "You are given a target value to search. If found in the array return its index, otherwise return -1. You may assume no duplicate exists in the array.\n",
    "\n",
    "Your algorithm's runtime complexity should be in the order of O(log n).\n",
    "\n",
    "Example:\n",
    "\n",
    "Input: \n",
    "\n",
    "sample_input = [0,1,2,4,5,6,7]\n",
    "rotated_input = [4,5,6,7,0,1,2]\n",
    "target_value = 6\n",
    "Output:\n",
    "\n",
    "target_index = 2"
   ]
  },
  {
   "cell_type": "code",
   "execution_count": 254,
   "metadata": {},
   "outputs": [],
   "source": [
    "def binary_search(numlist, target):\n",
    "    if not numlist:\n",
    "        return \n",
    "    start, end = 0, len(numlist) - 1 \n",
    "    while start + 1 < end:\n",
    "        mid = (start + end) //2 \n",
    "        \n",
    "        if numlist[mid] >= numlist[start]:\n",
    "            if numlist[start] <= target <= numlist[mid]:\n",
    "                end = mid\n",
    "            else:\n",
    "                start = mid\n",
    "                \n",
    "        else: # numlist[mid] < numlist[start]\n",
    "            if numlist[mid] <= target <= numlist[end]:\n",
    "                start = mid\n",
    "            else:\n",
    "                end = mid\n",
    "\n",
    "    if numlist[start] == target:\n",
    "        return start\n",
    "    elif numlist[end] == target:\n",
    "        return end\n",
    "    "
   ]
  },
  {
   "cell_type": "code",
   "execution_count": 255,
   "metadata": {},
   "outputs": [
    {
     "name": "stdout",
     "output_type": "stream",
     "text": [
      "2\n",
      "6\n",
      "0\n"
     ]
    }
   ],
   "source": [
    "print(binary_search([4,5,6,7,0,1,2], 6))\n",
    "print(binary_search([7,0,1,2,4,5,6], 6))\n",
    "print(binary_search([6,7,0,1,2,4,5], 6))"
   ]
  },
  {
   "cell_type": "markdown",
   "metadata": {},
   "source": [
    "### 15. String Compression (Verisk Innovative Analytics Interview Problem)\n",
    "\n",
    "Given a string with duplicated letters, please write a function called compress() that is able to compress the string.\n",
    "\n",
    "Ex: Input: 'aaaa', Output: 'a4'\n",
    "\n",
    "Ex: Input: 'aabbbaa', Output: 'a2b3a2'\n",
    "\n",
    "Ex: Input: 'aabbcc', Output: 'aabbcc' --> this is a special case since the string remain same length, output will be the same as the input. (Not 'a2b2c2')\n",
    "\n"
   ]
  },
  {
   "cell_type": "code",
   "execution_count": 290,
   "metadata": {},
   "outputs": [],
   "source": [
    "def compress(string):\n",
    "    # Idea: Put in the first letter to output string, \n",
    "    # check whether curr letter is the same as next one, if yes, counter++\n",
    "    # if not, add the counter number that stores the numbers of previous letter\n",
    "    # add new letter, reset counter = 1 and continue checking until string[-1] (not included)\n",
    "    # if counter still greater than 1 after for loop, we add counter value into final string\n",
    "    if not string:\n",
    "        return \n",
    "    final = ''\n",
    "    count = 1\n",
    "    final += str(string[0])\n",
    "    for i in range(len(string)-1):\n",
    "        if string[i] == string[i+1]:\n",
    "            count += 1 \n",
    "        else: # string[i] != string[i+1]\n",
    "            final += str(count)\n",
    "            final += str(string[i+1])\n",
    "            count = 1\n",
    "    if count > 1:\n",
    "        final += str(count)\n",
    "        \n",
    "    if len(final) == len(string):\n",
    "        return str(string)\n",
    "    \n",
    "    return final\n",
    "    "
   ]
  },
  {
   "cell_type": "code",
   "execution_count": 292,
   "metadata": {},
   "outputs": [
    {
     "name": "stdout",
     "output_type": "stream",
     "text": [
      "a4\n",
      "a2b3a2\n",
      "aabbcc\n"
     ]
    }
   ],
   "source": [
    "print(compress('aaaa'))\n",
    "print(compress('aabbbaa'))\n",
    "print(compress('aabbcc'))"
   ]
  },
  {
   "cell_type": "markdown",
   "metadata": {},
   "source": [
    "### 16. TF-IDF\n",
    "\n",
    "Question\n",
    "\n",
    "Say you are given a text document with the following 4 phrases:\n",
    "\n",
    "I saw a cat\n",
    "\n",
    "I saw a dog\n",
    "\n",
    "I saw a horse\n",
    "\n",
    "I have a dog\n",
    "\n",
    "Write a program in python to determine the TF-IDF (term frequency-inverse document frequency) values for each term of this document.\n",
    "\n"
   ]
  },
  {
   "cell_type": "code",
   "execution_count": 300,
   "metadata": {},
   "outputs": [
    {
     "data": {
      "text/html": [
       "<div>\n",
       "<style scoped>\n",
       "    .dataframe tbody tr th:only-of-type {\n",
       "        vertical-align: middle;\n",
       "    }\n",
       "\n",
       "    .dataframe tbody tr th {\n",
       "        vertical-align: top;\n",
       "    }\n",
       "\n",
       "    .dataframe thead th {\n",
       "        text-align: right;\n",
       "    }\n",
       "</style>\n",
       "<table border=\"1\" class=\"dataframe\">\n",
       "  <thead>\n",
       "    <tr style=\"text-align: right;\">\n",
       "      <th></th>\n",
       "      <th>cat</th>\n",
       "      <th>dog</th>\n",
       "      <th>have</th>\n",
       "      <th>horse</th>\n",
       "      <th>saw</th>\n",
       "    </tr>\n",
       "  </thead>\n",
       "  <tbody>\n",
       "    <tr>\n",
       "      <th>0</th>\n",
       "      <td>0.842926</td>\n",
       "      <td>0.000000</td>\n",
       "      <td>0.000000</td>\n",
       "      <td>0.000000</td>\n",
       "      <td>0.538029</td>\n",
       "    </tr>\n",
       "    <tr>\n",
       "      <th>1</th>\n",
       "      <td>0.000000</td>\n",
       "      <td>0.777221</td>\n",
       "      <td>0.000000</td>\n",
       "      <td>0.000000</td>\n",
       "      <td>0.629228</td>\n",
       "    </tr>\n",
       "    <tr>\n",
       "      <th>2</th>\n",
       "      <td>0.000000</td>\n",
       "      <td>0.000000</td>\n",
       "      <td>0.000000</td>\n",
       "      <td>0.842926</td>\n",
       "      <td>0.538029</td>\n",
       "    </tr>\n",
       "    <tr>\n",
       "      <th>3</th>\n",
       "      <td>0.000000</td>\n",
       "      <td>0.619130</td>\n",
       "      <td>0.785288</td>\n",
       "      <td>0.000000</td>\n",
       "      <td>0.000000</td>\n",
       "    </tr>\n",
       "  </tbody>\n",
       "</table>\n",
       "</div>"
      ],
      "text/plain": [
       "        cat       dog      have     horse       saw\n",
       "0  0.842926  0.000000  0.000000  0.000000  0.538029\n",
       "1  0.000000  0.777221  0.000000  0.000000  0.629228\n",
       "2  0.000000  0.000000  0.000000  0.842926  0.538029\n",
       "3  0.000000  0.619130  0.785288  0.000000  0.000000"
      ]
     },
     "execution_count": 300,
     "metadata": {},
     "output_type": "execute_result"
    }
   ],
   "source": [
    "import pandas as pd\n",
    "from sklearn.feature_extraction.text import TfidfVectorizer\n",
    "p1 = 'I saw a cat'\n",
    "p2 = 'I saw a dog'\n",
    "p3 = 'I saw a horse'\n",
    "p4 = 'I have a dog'\n",
    "\n",
    "vectorizer = TfidfVectorizer()\n",
    "vectors = vectorizer.fit_transform([p1,p2,p3,p4])\n",
    "feature_names = vectorizer.get_feature_names()\n",
    "dense = vectors.todense()\n",
    "denselist = dense.tolist()\n",
    "df = pd.DataFrame(denselist, columns=feature_names)\n",
    "df.head()"
   ]
  },
  {
   "cell_type": "markdown",
   "metadata": {},
   "source": [
    "### 17. Nightly Job\n",
    "\n",
    "\n",
    "Question\n",
    "\n",
    "Every night between 7pm and midnight, two computing jobs from two different sources are randomly started with each one lasting an hour.\n",
    "\n",
    "Unfortunately, when the jobs simultaneously run, they cause a failure in some of the other company’s nightly jobs, resulting in downtime for the company that costs $1000. \n",
    "\n",
    "The CEO, who only has enough time today to hear no more than one word, needs a single number representing the annual (365 days) cost of this problem.\n",
    "\n",
    "Write a function to simulate this problem and output an estimated cost. \n",
    "\n",
    "Bonus - How would you solve this using probability?"
   ]
  },
  {
   "cell_type": "code",
   "execution_count": 310,
   "metadata": {},
   "outputs": [
    {
     "name": "stdout",
     "output_type": "stream",
     "text": [
      "Boss, the annual cost for downtime is 74876.1 USD\n"
     ]
    }
   ],
   "source": [
    "import numpy as np\n",
    "\n",
    "job_1 = np.random.randint(0, 5*60, size = 10**5)\n",
    "job_2 = np.random.randint(0, 5*60, size = 10**5)\n",
    "clash_percetage = np.mean(np.abs(job_1, job_2) <= 60)\n",
    "annual_cost = round(clash_percetage * 1000 * 365, 2)\n",
    "\n",
    "print('Boss, the annual cost for downtime is', annual_cost, 'USD')\n"
   ]
  },
  {
   "cell_type": "markdown",
   "metadata": {},
   "source": [
    "### 18. Business Days\n",
    "\n",
    "Question\n",
    "Given two dates, write a program to find the number of business days that exist between the date range.\n",
    "\n",
    "Example:\n",
    "\n",
    "Input:\n",
    "\n",
    "date1 = 2021-01-31\n",
    "date2 = 2021-02-18\n",
    "Output:\n",
    "\n",
    "business_days = 14"
   ]
  },
  {
   "cell_type": "code",
   "execution_count": 318,
   "metadata": {},
   "outputs": [
    {
     "name": "stdout",
     "output_type": "stream",
     "text": [
      "14\n"
     ]
    }
   ],
   "source": [
    "import pandas as pd\n",
    "\n",
    "date1 = '2021-01-31'\n",
    "date2 = '2021-02-18'\n",
    "\n",
    "#print(pd.bdate_range(date1, date2))\n",
    "print(pd.bdate_range(date1, date2).shape[0])\n"
   ]
  },
  {
   "cell_type": "markdown",
   "metadata": {},
   "source": [
    "### 19. Equivalent Index\n",
    "\n",
    "Given a list of integers, find the index at which the sum of the left half of the list is equal to the right half.\n",
    "\n",
    "If there is no index where this condition is satisfied return -1.\n",
    "\n",
    " \n",
    "\n",
    "Example 1:\n",
    "\n",
    "nums = [1, 7, 3, 5, 5, 6]\n",
    "findIndex(nums) -> 3\n",
    "\n",
    "Example 2:\n",
    "\n",
    "nums = [1,3,5]\n",
    "findIndex(nums) -> -1"
   ]
  },
  {
   "cell_type": "code",
   "execution_count": 331,
   "metadata": {},
   "outputs": [],
   "source": [
    "def findIndex(nums):\n",
    "    if not nums:\n",
    "        return -1\n",
    "    total = sum(nums)\n",
    "    count = 0\n",
    "    for i in range(len(nums)):\n",
    "        total -= (count + nums[i])\n",
    "        if count == total:\n",
    "            return i\n",
    "        \n",
    "        else:\n",
    "            count += nums[i]\n",
    "            total = sum(nums)\n",
    "    return -1"
   ]
  },
  {
   "cell_type": "code",
   "execution_count": 332,
   "metadata": {},
   "outputs": [
    {
     "name": "stdout",
     "output_type": "stream",
     "text": [
      "3\n",
      "-1\n"
     ]
    }
   ],
   "source": [
    "print(findIndex([1, 7, 3, 5, 5, 6]))\n",
    "print(findIndex([1, 3, 5]))"
   ]
  },
  {
   "cell_type": "markdown",
   "metadata": {},
   "source": [
    "### 20. How Many Friends\n",
    "You are given a list of lists where each group represents a friendship.\n",
    "\n",
    "For example, given the list [[2,3],[3,4],[5]], person 2 is friends with person 3, person 3 is friends with person 4, etc. \n",
    "\n",
    "Write a function to find how many friends each person has. \n",
    "\n",
    "Input:\n",
    "\n",
    "friends = [[1,3],[2,3],[3,5],[4]]\n",
    "\n",
    "Output:\n",
    "\n",
    "[(1,1), (2,1), (3,3), (4,0), (5,1)]\n"
   ]
  },
  {
   "cell_type": "code",
   "execution_count": 335,
   "metadata": {},
   "outputs": [],
   "source": [
    "def friend(friend):\n",
    "    if not friend:\n",
    "        return\n",
    "    d = {}\n",
    "    for pair in friend:\n",
    "        for person in pair:\n",
    "            d[person]= d.get(person, 0) + 1\n",
    "    output = []\n",
    "    for k,v in sorted(d.items()):\n",
    "        output.append((k,v))\n",
    "    \n",
    "    return output"
   ]
  },
  {
   "cell_type": "code",
   "execution_count": 336,
   "metadata": {},
   "outputs": [
    {
     "name": "stdout",
     "output_type": "stream",
     "text": [
      "[(1, 1), (2, 1), (3, 3), (4, 1), (5, 1)]\n"
     ]
    }
   ],
   "source": [
    "print(friend([[1,3],[2,3],[3,5],[4]]))"
   ]
  },
  {
   "cell_type": "markdown",
   "metadata": {},
   "source": [
    "### 21. Closest Key\n",
    "\n",
    "Given a dictionary with keys of letters and values of a list of letters, find the key with the input value closest to the beginning of the list.\n",
    "\n",
    "Example:\n",
    "\n",
    "dictionary = {\n",
    "    'a' : ['b','c','e'],\n",
    "    'm' : ['c','e'],\n",
    "}\n",
    "\n",
    "input = 'c'\n",
    "\n",
    "closest_key(dictionary, input) -> 'm'\n",
    " \n",
    "\n",
    "c is at distance 1 from a and 0 from m. Hence closest key for c is m.\n",
    "\n"
   ]
  },
  {
   "cell_type": "code",
   "execution_count": 343,
   "metadata": {},
   "outputs": [],
   "source": [
    "def closest_key(d, char):\n",
    "    closest = float('inf')\n",
    "    out = None \n",
    "    for key, val in d.items():\n",
    "        if char in val:\n",
    "            dist = val.index(char)\n",
    "            if dist < closest:\n",
    "                closest = dist\n",
    "                out = key\n",
    "        else:\n",
    "            continue\n",
    "    return out\n",
    "        "
   ]
  },
  {
   "cell_type": "code",
   "execution_count": 344,
   "metadata": {},
   "outputs": [
    {
     "name": "stdout",
     "output_type": "stream",
     "text": [
      "a\n"
     ]
    }
   ],
   "source": [
    "d = { 'a' : ['c','e'], 'm' : ['b','c','e'] }\n",
    "char = 'c'\n",
    "print(closest_key(d, char))"
   ]
  },
  {
   "cell_type": "markdown",
   "metadata": {},
   "source": [
    "### 22. Moving Window\n",
    "\n",
    "Given a list of numbers and window_size (int), calculate the moving window average.\n",
    "\n",
    "Example:\n",
    "\n",
    "input1 = [1,2,3,4,5,6]\n",
    "val = 3\n",
    "moving_window(input1, val) -> [1, 1.5, 2, 3, 4, 5]\n",
    "\n",
    "input1 = [1,2,3,4,5,6]\n",
    "val = 4\n",
    "moving_window(input1, val) -> [1, 1.5, 2, 2.5, 3.5, 4.5]"
   ]
  },
  {
   "cell_type": "code",
   "execution_count": 371,
   "metadata": {},
   "outputs": [],
   "source": [
    "import numpy as np\n",
    "\n",
    "def moving_window(num, val):\n",
    "    out = []\n",
    "    for i in range(len(num)):\n",
    "        if i <= val:\n",
    "            out.append(np.mean(np.array(num[:i])))\n",
    "        else:\n",
    "            out.append(np.mean(np.array(num[i-val:i])))\n",
    "    return out[1:]"
   ]
  },
  {
   "cell_type": "code",
   "execution_count": 372,
   "metadata": {},
   "outputs": [
    {
     "name": "stdout",
     "output_type": "stream",
     "text": [
      "[1.0, 1.5, 2.0, 2.5, 3.0]\n"
     ]
    }
   ],
   "source": [
    "input1 = [1,2,3,4,5,6] \n",
    "val = 5\n",
    "print(moving_window(input1, val))"
   ]
  },
  {
   "cell_type": "markdown",
   "metadata": {},
   "source": [
    "### 23. One element removed\n",
    "\n",
    "There are two lists, list X and list Y. Both lists contain integers from -1000 to 1000 and are identical to each other except that one integer is removed in list Y that exists in list X.\n",
    "\n",
    "Write a function that takes in both lists and returns the integer that was removed in O(1) space and O(n) time without using the python set function.\n",
    "\n",
    "Example:\n",
    "\n",
    "list_x = [1,2,3,4,5]\n",
    "list_y = [1,2,4,5]\n",
    "\n",
    "return_missing_integer(list_x, list_y) -> 3"
   ]
  },
  {
   "cell_type": "code",
   "execution_count": 377,
   "metadata": {},
   "outputs": [],
   "source": [
    "def missing_integer(list_x, list_y):\n",
    "    if not list_x or not list_y:\n",
    "        return \n",
    "    list_a = sorted(list_x)\n",
    "    list_b = sorted(list_y)\n",
    "    if len(list_a) > len(list_b):\n",
    "        longer = list_a\n",
    "        short = list_b\n",
    "    else:\n",
    "        longer = list_b\n",
    "        short = list_a\n",
    "        \n",
    "    i, j = 0, 0\n",
    "    while i < len(longer) and j < len(short):\n",
    "        if longer[i] == short[j]:\n",
    "            i += 1\n",
    "            j += 1\n",
    "        \n",
    "        elif longer[i] != short[j]:\n",
    "            return longer[i]\n",
    "        \n",
    "            break\n",
    "    \n",
    "    \n",
    "    "
   ]
  },
  {
   "cell_type": "code",
   "execution_count": 378,
   "metadata": {},
   "outputs": [
    {
     "name": "stdout",
     "output_type": "stream",
     "text": [
      "3\n"
     ]
    }
   ],
   "source": [
    "list_x = [1,2,3,4,5]\n",
    "list_y = [1,2,4,5]\n",
    "print(missing_integer(list_x, list_y))"
   ]
  },
  {
   "cell_type": "markdown",
   "metadata": {},
   "source": [
    "### 24. N-gram Dictionary\n",
    "\n",
    "Write a function that can take in a word (string) and return a dictionary of n-gram count.\n",
    "\n",
    "Example 1:\n",
    "\n",
    "string = 'banana' \n",
    "n=2\n",
    "output = {'ba':1, 'an':2, 'na':2} \n",
    "Example 2:\n",
    "\n",
    "string = 'banana' \n",
    "n=3 \n",
    "output = {'ban':1, 'ana':2, 'nan':1} \n"
   ]
  },
  {
   "cell_type": "code",
   "execution_count": 383,
   "metadata": {},
   "outputs": [],
   "source": [
    "def n_gram(string, n):\n",
    "    if not string:\n",
    "        return \n",
    "    out = {}\n",
    "    for i in range(len(string)):\n",
    "        if len(string[i:i+n]) != n:\n",
    "            continue\n",
    "        out[string[i:i+n]]= out.get(string[i:i+n],0) + 1\n",
    "    return out\n",
    "        \n",
    "        "
   ]
  },
  {
   "cell_type": "code",
   "execution_count": 386,
   "metadata": {},
   "outputs": [
    {
     "name": "stdout",
     "output_type": "stream",
     "text": [
      "{'ba': 1, 'an': 2, 'na': 2}\n",
      "{'ban': 1, 'ana': 2, 'nan': 1}\n"
     ]
    }
   ],
   "source": [
    "print(n_gram('banana',2))\n",
    "print(n_gram('banana',3))"
   ]
  },
  {
   "cell_type": "markdown",
   "metadata": {},
   "source": [
    "### 25. Target Indices\n",
    "\n",
    "Given an array and a target integer, write a function that returns the indices of two integers in the array that add up to the target integer in O(N) time.\n",
    "\n",
    "Note even though there could be many solutions, but only one needs to be returned.\n",
    "\n",
    "Example 1:\n",
    "Given the array [1 2 3 4] and target 5, it should return [0 3] or [1 2].\n",
    "\n",
    "Example 2:\n",
    "Given the array [3] and target 6 it should NOT return [0 0] as you cant use an index twice.\n"
   ]
  },
  {
   "cell_type": "code",
   "execution_count": 401,
   "metadata": {},
   "outputs": [],
   "source": [
    "def two_sum(array, target):\n",
    "    if not array:\n",
    "        return\n",
    "    num = {}\n",
    "    for i in range(len(array)):\n",
    "        if target - array[i] in num:\n",
    "            return [num[target - array[i]], i]\n",
    "        else:\n",
    "            num[array[i]] = i\n",
    "    \n"
   ]
  },
  {
   "cell_type": "code",
   "execution_count": 402,
   "metadata": {},
   "outputs": [
    {
     "name": "stdout",
     "output_type": "stream",
     "text": [
      "[1, 2]\n"
     ]
    }
   ],
   "source": [
    "print(two_sum([1,2,3,4],5))"
   ]
  },
  {
   "cell_type": "markdown",
   "metadata": {},
   "source": [
    "### 26. String mapping\n",
    "\n",
    "Given two strings, string1 and string, determine if there exists a one to one character mapping between each character of string1 to string2.\n",
    "\n",
    "Example 1:\n",
    "\n",
    "string1 = 'qwe'\n",
    "\n",
    "string2 = 'asd'\n",
    "\n",
    "string_map(string1, string2) == True\n",
    "\n",
    "#q = a, w = s, and e = d\n",
    "\n",
    "Example 2:\n",
    "\n",
    "string1 = 'donut'\n",
    "\n",
    "string2 = 'fatty'\n",
    "\n",
    "string_map(string1, string2) == False\n",
    "\n",
    "#t cannot map to two different values"
   ]
  },
  {
   "cell_type": "code",
   "execution_count": 406,
   "metadata": {},
   "outputs": [],
   "source": [
    "def mapping(s1, s2):\n",
    "    if len(s1) != len(s2):\n",
    "        return False\n",
    "    d = {}\n",
    "    for char1, char2 in zip(s1, s2):\n",
    "        if char1 not in d:\n",
    "            d[char1] = char2\n",
    "        elif d[char1] != char2:\n",
    "            return False\n",
    "    \n",
    "    for char1, char2 in zip(s2, s1):\n",
    "        if char1 not in d:\n",
    "            d[char1] = char2\n",
    "        elif d[char1] != char2:\n",
    "            return False\n",
    "    return True"
   ]
  },
  {
   "cell_type": "code",
   "execution_count": 407,
   "metadata": {},
   "outputs": [
    {
     "name": "stdout",
     "output_type": "stream",
     "text": [
      "False\n"
     ]
    }
   ],
   "source": [
    "s1 = 'donut'\n",
    "s2 = 'fatty'\n",
    "print(mapping(s1,s2))"
   ]
  },
  {
   "cell_type": "markdown",
   "metadata": {},
   "source": [
    "### 27. Most Repetition\n",
    "\n",
    "Given a string of unknown length, write an algorithm that figures out which letter occurs most frequently and with the most continuous repetition.\n",
    "\n",
    "Example:\n",
    "\n",
    "str1 = 'aabbaaccbbb'\n",
    "\n",
    "max_repeating(str1) -> b"
   ]
  },
  {
   "cell_type": "code",
   "execution_count": 422,
   "metadata": {},
   "outputs": [],
   "source": [
    "def repet_char(string):\n",
    "    # if a letter continuously repeat the most which others shows up less frequently, output that letter. \n",
    "    # However, if a letter shows up most frequently but not consecutively, return this letter instead\n",
    "    if not string:\n",
    "        return \n",
    "    count,check = 1, {}\n",
    "    final = ''\n",
    "    final += str(string[0])\n",
    "    for i in range(len(string)-1):\n",
    "        if string[i] == string[i+1]:\n",
    "            count += 1\n",
    "        else: #string[i] != string[i+1]\n",
    "            final += str(count)\n",
    "            final += string[i+1]\n",
    "            count = 1\n",
    "    if count > 1:\n",
    "        final += str(count)\n",
    "  \n",
    "    max_num = 0\n",
    "    letter = None\n",
    "    for i in range(len(final)):\n",
    "        if final[i].isdigit():\n",
    "            num = int(final[i])\n",
    "            if num > max_num:\n",
    "                max_num = num\n",
    "                letter = final[i-1]\n",
    "            \n",
    "    for l in string:\n",
    "        check[l]  = check.get(l, 0) + 1 \n",
    "    \n",
    "    most_letter = max(check, key=check.get)\n",
    "    \n",
    "    if check[most_letter] < max_num:\n",
    "        return letter\n",
    "    else:\n",
    "        return most_letter    "
   ]
  },
  {
   "cell_type": "code",
   "execution_count": 425,
   "metadata": {},
   "outputs": [
    {
     "name": "stdout",
     "output_type": "stream",
     "text": [
      "b\n",
      "a\n"
     ]
    }
   ],
   "source": [
    "str1 = 'aabbaaccbbb'\n",
    "str2 = 'aaabbccccaaddd'\n",
    "print(repet_char(str1))\n",
    "print(repet_char(str2))"
   ]
  },
  {
   "cell_type": "markdown",
   "metadata": {},
   "source": [
    "### 28. Get Top N words\n",
    "1. Given an example paragraph string and an integer N, write a function that returns the top N frequent words in the posting and the frequencies for each word.\n",
    "\n",
    "2. What's the function run-time?"
   ]
  },
  {
   "cell_type": "code",
   "execution_count": 433,
   "metadata": {},
   "outputs": [],
   "source": [
    "def top_n(word, n):\n",
    "    d = {}\n",
    "    word_list = word.split()\n",
    "    for i in word_list:\n",
    "        d[i] = d.get(i,0)+ 1\n",
    "    \n",
    "    values = sorted(d.items(), key=lambda x: x[1], reverse=True)\n",
    "    return values[:n]\n"
   ]
  },
  {
   "cell_type": "code",
   "execution_count": 434,
   "metadata": {},
   "outputs": [
    {
     "name": "stdout",
     "output_type": "stream",
     "text": [
      "[('the', 5), ('sauna', 2)]\n"
     ]
    }
   ],
   "source": [
    "posting = \"\"\"\n",
    "Herbal sauna uses the healing properties of herbs in combination with distilled water. \n",
    "The water evaporates and distributes the effect of the herbs throughout the room. \n",
    "A visit to the herbal sauna can cause real miracles, especially for colds. \n",
    "\"\"\"\n",
    "print(top_n(posting, 2))"
   ]
  },
  {
   "cell_type": "markdown",
   "metadata": {},
   "source": [
    "### 29. Counting File Line\n",
    "\n",
    "Let's say you're given a huge 100 GB log file. You want to be able to count how many lines are in the file. \n",
    "\n",
    "Write code in Python to count the total number of lines in the file.\n",
    "\n"
   ]
  },
  {
   "cell_type": "code",
   "execution_count": null,
   "metadata": {},
   "outputs": [],
   "source": [
    "def count_lines(filename):\n",
    "    with open(str(filename) + '.txt') as f:\n",
    "        count = 0\n",
    "        for l in f:\n",
    "            count += 1 \n",
    "    return count"
   ]
  },
  {
   "cell_type": "code",
   "execution_count": null,
   "metadata": {},
   "outputs": [],
   "source": []
  }
 ],
 "metadata": {
  "kernelspec": {
   "display_name": "Python 3",
   "language": "python",
   "name": "python3"
  },
  "language_info": {
   "codemirror_mode": {
    "name": "ipython",
    "version": 3
   },
   "file_extension": ".py",
   "mimetype": "text/x-python",
   "name": "python",
   "nbconvert_exporter": "python",
   "pygments_lexer": "ipython3",
   "version": "3.7.1"
  }
 },
 "nbformat": 4,
 "nbformat_minor": 2
}
