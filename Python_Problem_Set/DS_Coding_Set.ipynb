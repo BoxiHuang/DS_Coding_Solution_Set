{
 "cells": [
  {
   "cell_type": "markdown",
   "metadata": {},
   "source": [
    "### 1. Compute Deviation\n",
    "\n",
    "Write a function that takes in a list of dictionaries with a key and list of integers and returns a dictionary with the standard deviation of each list.\n",
    "\n",
    "Note that this should be done without using the numpy built in functions.\n",
    "\n",
    "Example:\n",
    "\n",
    "input = [\n",
    "    {\n",
    "        'key': 'list1',\n",
    "        'values': [4,5,2,3,4,5,2,3],\n",
    "    },\n",
    "    {\n",
    "        'key': 'list2',\n",
    "        'values': [1,1,34,12,40,3,9,7],\n",
    "    }\n",
    "]\n",
    "\n",
    "output -> {'list1': 1.12, 'list2': 14.19}\n"
   ]
  },
  {
   "cell_type": "code",
   "execution_count": 97,
   "metadata": {},
   "outputs": [],
   "source": [
    "import math\n",
    "\n",
    "def deviation(l):\n",
    "    if not l:\n",
    "        return None\n",
    "    key, value, std_value, final = [], [], [], {}\n",
    "    # taking values out from input dictionary\n",
    "    for li in l:\n",
    "        for k, v in li.items():\n",
    "            if k =='key':\n",
    "                key.append(v)\n",
    "            if k =='values':\n",
    "                value.append(v)\n",
    "    \n",
    "    # Calculate STD value\n",
    "    for i in range(len(value)):\n",
    "        mean = sum(value[i])/len(value[i])\n",
    "        var = sum(pow(x - mean, 2) for x in value[i])/len(value[i])\n",
    "        std_value.append(round(math.sqrt(var),2))\n",
    "        \n",
    "    # Final dictionary Generated\n",
    "    for k, std in zip(key, std_value):\n",
    "        final[k] = std\n",
    "        \n",
    "    \n",
    "    return final"
   ]
  },
  {
   "cell_type": "code",
   "execution_count": 98,
   "metadata": {},
   "outputs": [
    {
     "name": "stdout",
     "output_type": "stream",
     "text": [
      "{'list1': 1.12, 'list2': 14.19}\n"
     ]
    }
   ],
   "source": [
    "print(deviation([ { 'key': 'list1', 'values': [4,5,2,3,4,5,2,3], }, { 'key': 'list2', 'values': [1,1,34,12,40,3,9,7], } ]\n",
    "    ))"
   ]
  },
  {
   "cell_type": "markdown",
   "metadata": {},
   "source": [
    "### 2: Multimodal Sample\n",
    "Write a function for sampling from a multimodal distribution. \n",
    "\n",
    "Inputs are keys (i.e. green, red, blue), weights (i.e. 2, 3, 5.5), and the number of samples drawn from the distribution. The output should return the keys of the samples. \n",
    "\n",
    "Example Input:\n",
    "\n",
    "keys = ['green', 'red', 'blue']\n",
    "weights = [1, 10, 2]\n",
    "n = 5\n",
    "sample_multimodal(keys, weights, n)\n",
    " \n",
    "\n",
    "Output\n",
    "\n",
    "['blue', 'red', 'red', 'green', 'red']"
   ]
  },
  {
   "cell_type": "code",
   "execution_count": 99,
   "metadata": {},
   "outputs": [],
   "source": [
    "import random\n",
    "import numpy as np\n",
    "\n",
    "def sample_multimodal(keys, weights, n):\n",
    "    # Multimodal Sampling: \n",
    "    #Find the cumulative weight probability by dividing each weight by the total sum of weights\n",
    "    \n",
    "    weight_prob  = np.cumsum((np.array(weights)/np.sum(weights)))\n",
    "    return [keys[ np.sum(weight_prob < random.random() )] for _ in range(n)]"
   ]
  },
  {
   "cell_type": "code",
   "execution_count": 100,
   "metadata": {},
   "outputs": [
    {
     "name": "stdout",
     "output_type": "stream",
     "text": [
      "['red', 'red', 'red', 'red', 'red']\n"
     ]
    }
   ],
   "source": [
    "keys = ['green', 'red', 'blue'] \n",
    "weights = [1, 10, 2] \n",
    "n = 5\n",
    "print(sample_multimodal(keys, weights, n))"
   ]
  },
  {
   "cell_type": "markdown",
   "metadata": {},
   "source": [
    "### 3. Weekly Aggregation\n",
    "uestion\n",
    "Given a list of timestamps in sequential order, return a list of lists grouped by week (7 days) using the first timestamp as the starting point.\n",
    "\n",
    "Example:\n",
    "\n",
    "ts = [\n",
    "    '2019-01-01', \n",
    "    '2019-01-02',\n",
    "    '2019-01-08', \n",
    "    '2019-02-01', \n",
    "    '2019-02-02',\n",
    "    '2019-02-05',\n",
    "]\n",
    "\n",
    "output = [\n",
    "    ['2019-01-01', '2019-01-02'], \n",
    "    ['2019-01-08'], \n",
    "    ['2019-02-01', '2019-02-02'],\n",
    "    ['2019-02-05'],\n",
    "]\n"
   ]
  },
  {
   "cell_type": "code",
   "execution_count": 101,
   "metadata": {},
   "outputs": [],
   "source": [
    "#from datetime import datetime\n",
    "import datetime\n",
    "import collections\n",
    "\n",
    "def read_date(date):\n",
    "    return datetime.datetime.strptime(date, \"%Y-%m-%d\")\n",
    "\n",
    "def weeks_from_date(starting_point, week):\n",
    "    delta = read_date(starting_point) - read_date(week)\n",
    "    return delta.days // 7\n",
    "\n",
    "def group_by_weeks(ts):\n",
    "    starting_date = ts[0]\n",
    "    grouped = collections.defaultdict(list)\n",
    "    for date in ts:\n",
    "        grouped[weeks_from_date(starting_date, date)].append(date)\n",
    "    \n",
    "    final = []\n",
    "    for i in grouped.values():\n",
    "        final.append(i)\n",
    "        \n",
    "    return final"
   ]
  },
  {
   "cell_type": "code",
   "execution_count": 102,
   "metadata": {},
   "outputs": [
    {
     "name": "stdout",
     "output_type": "stream",
     "text": [
      "[['2019-01-01'], ['2019-01-02', '2019-01-08'], ['2019-02-01', '2019-02-02', '2019-02-05']]\n"
     ]
    }
   ],
   "source": [
    "print(group_by_weeks([ '2019-01-01', '2019-01-02', '2019-01-08', '2019-02-01', '2019-02-02', '2019-02-05']))"
   ]
  },
  {
   "cell_type": "markdown",
   "metadata": {},
   "source": [
    "### 4. String Subsequence\n",
    "Question\n",
    "Given two strings, string1 and string2, find out if string1 is a subsequence of string2.\n",
    "\n",
    "A subsequence is a sequence that can be derived from another sequence by deleting some elements without changing the order of the remaining elements.\n",
    "\n",
    "Example:\n",
    "\n",
    "string1 = 'abc'\n",
    "string2 = 'asbsc'\n",
    "string3 = 'acedb'\n",
    "\n",
    "isSubSequence(string1, string2) -> True\n",
    "isSubSequence(string1, string3) -> False"
   ]
  },
  {
   "cell_type": "code",
   "execution_count": 103,
   "metadata": {},
   "outputs": [],
   "source": [
    "def isSubSequence(s1, s2):\n",
    "    i, j = 0, 0\n",
    "    while i < len(s1) and j < len(s2):\n",
    "        if s1[i] == s2[j]:\n",
    "            i += 1 \n",
    "            j += 1 \n",
    "        else:\n",
    "            j += 1 \n",
    "    \n",
    "    if i == len(s1):\n",
    "        return True\n",
    "    else:\n",
    "        return False      "
   ]
  },
  {
   "cell_type": "code",
   "execution_count": 104,
   "metadata": {},
   "outputs": [
    {
     "name": "stdout",
     "output_type": "stream",
     "text": [
      "True\n",
      "False\n"
     ]
    }
   ],
   "source": [
    "print(isSubSequence('abc','asbsc'))\n",
    "print(isSubSequence('asbsc','acedb'))"
   ]
  },
  {
   "cell_type": "markdown",
   "metadata": {},
   "source": [
    "### 5. Find Bigrams\n",
    "Write a function that can take a string and return a list of bigrams.\n",
    "\n",
    "Example:\n",
    "\n",
    "sentence = \"\"\"\n",
    "Have free hours and love children? \n",
    "Drive kids to school, soccer practice \n",
    "and other activities.\n",
    "\"\"\"\n",
    "\n",
    "output = [('have', 'free'),\n",
    " ('free', 'hours'),\n",
    " ('hours', 'and'),\n",
    " ('and', 'love'),\n",
    " ('love', 'children?'),\n",
    " ('children?', 'drive'),\n",
    " ('drive', 'kids'),\n",
    " ('kids', 'to'),\n",
    " ('to', 'school,'),\n",
    " ('school,', 'soccer'),\n",
    " ('soccer', 'practice'),\n",
    " ('practice', 'and'),\n",
    " ('and', 'other'),\n",
    " ('other', 'activities.')]"
   ]
  },
  {
   "cell_type": "code",
   "execution_count": 105,
   "metadata": {},
   "outputs": [],
   "source": [
    "def bigrams(s):\n",
    "    if not s:\n",
    "        return\n",
    "    result = []\n",
    "    word = s.split()\n",
    "    i, j = 0, 1\n",
    "    while j < len(word):\n",
    "        result.append((word[i], word[j]))\n",
    "        j += 1\n",
    "        i += 1\n",
    "\n",
    "    return result"
   ]
  },
  {
   "cell_type": "code",
   "execution_count": 106,
   "metadata": {},
   "outputs": [
    {
     "name": "stdout",
     "output_type": "stream",
     "text": [
      "[('Have', 'free'), ('free', 'hours'), ('hours', 'and'), ('and', 'love'), ('love', 'children?'), ('children?', 'Drive'), ('Drive', 'kids'), ('kids', 'to'), ('to', 'school,'), ('school,', 'soccer'), ('soccer', 'practice'), ('practice', 'and'), ('and', 'other'), ('other', 'activities.')]\n"
     ]
    }
   ],
   "source": [
    "print(bigrams(\" Have free hours and love children? Drive kids to school, soccer practice and other activities. \"))"
   ]
  },
  {
   "cell_type": "markdown",
   "metadata": {},
   "source": [
    "### 6. Buy and Sell\n",
    "1. Given a list of stock prices in ascending order by datetime, write a function that outputs the max profit by buying and selling at a specific interval.\n",
    "\n",
    "Example:\n",
    "\n",
    "stock_prices = [10,5,20,32,25,12]\n",
    "\n",
    "get_max_profit(stock_prices) -> 27\n",
    " \n",
    "\n",
    "2. Making it harder, given a list of stock prices and date times in ascending order by datetime, write a function that outputs the profit and start and end dates to buy and sell for max profit.\n",
    "\n",
    "stock_prices = [10,5,20,32,25,12]\n",
    "dts = [\n",
    "    '2019-01-01', \n",
    "    '2019-01-02',\n",
    "    '2019-01-03',\n",
    "    '2019-01-04',\n",
    "    '2019-01-05',\n",
    "    '2019-01-06',\n",
    "]\n",
    "\n",
    "get_profit_dates(stock_prices, dts) -> (27, '2019-01-02', '2019-01-04')"
   ]
  },
  {
   "cell_type": "code",
   "execution_count": 133,
   "metadata": {},
   "outputs": [],
   "source": [
    "def max_profit(prices):\n",
    "    min_price = float('inf')\n",
    "    profit = 0\n",
    "    \n",
    "    for i in range(len(prices)):    \n",
    "        min_price = min(min_price, prices[i])\n",
    "        profit = max(profit, prices[i] - min_price)\n",
    "    \n",
    "    return profit\n",
    "\n",
    "def get_profit_dates(prices, dts):\n",
    "    min_price = float('inf')\n",
    "    profit = 0\n",
    "    start = None\n",
    "    \n",
    "    for i in range(len(prices)):\n",
    "        if prices[i] < min_price:\n",
    "            start = dts[i]\n",
    "            min_price = prices[i]\n",
    "        \n",
    "        if prices[i] - min_price > profit:\n",
    "            end = dts[i]\n",
    "            profit = prices[i] - min_price\n",
    "    return [profit, start, end]"
   ]
  },
  {
   "cell_type": "code",
   "execution_count": 135,
   "metadata": {},
   "outputs": [
    {
     "name": "stdout",
     "output_type": "stream",
     "text": [
      "27\n",
      "[27, '2019-01-02', '2019-01-04']\n"
     ]
    }
   ],
   "source": [
    "# Subtask 1\n",
    "print(max_profit([10,5,20,32,25,12]))\n",
    "\n",
    "# Subtask 2\n",
    "stock_prices = [10,5,20,32,25,12] \n",
    "dts = [ '2019-01-01', '2019-01-02', '2019-01-03', '2019-01-04', '2019-01-05', '2019-01-06' ]\n",
    "print(get_profit_dates(stock_prices, dts))"
   ]
  },
  {
   "cell_type": "markdown",
   "metadata": {},
   "source": [
    "### 7. Merge Sorted Lists\n",
    "Question:\n",
    "\n",
    "Given two sorted lists, write a function to merge them into one sorted list.\n",
    "\n",
    "What's the time complexity?\n",
    "\n"
   ]
  },
  {
   "cell_type": "code",
   "execution_count": 142,
   "metadata": {},
   "outputs": [],
   "source": [
    "def merge(s1, s2):\n",
    "    if not s1:\n",
    "        return s2\n",
    "    if not s2:\n",
    "        return s1\n",
    "    \n",
    "    i, j, result = 0, 0, []\n",
    "    while i < len(s1) and j < len(s2):\n",
    "        if s1[i] < s2[j]:\n",
    "            result.append(s1[i])\n",
    "            i += 1\n",
    "        else:\n",
    "            result.append(s2[j])\n",
    "            j += 1\n",
    "            \n",
    "    while i < len(s1):\n",
    "        result.append(s1[i])\n",
    "        i += 1\n",
    "        \n",
    "    while j < len(s2):\n",
    "        result.append(s2[j])\n",
    "        j += 1 \n",
    "        \n",
    "    return result\n",
    "\n",
    "# Time Complexity: O(n)"
   ]
  },
  {
   "cell_type": "code",
   "execution_count": 143,
   "metadata": {},
   "outputs": [
    {
     "name": "stdout",
     "output_type": "stream",
     "text": [
      "[1, 2, 3, 4, 5, 6, 8]\n"
     ]
    }
   ],
   "source": [
    "s1 = [1,3,5]\n",
    "s2 = [2,4,6,8]\n",
    "print(merge(s1, s2))"
   ]
  },
  {
   "cell_type": "markdown",
   "metadata": {},
   "source": [
    "### 8. Move Zeros Back\n",
    "\n",
    "\n",
    "Question\n",
    "Write a function that can move all the zeros in an array of integers to the back of the array in place.\n",
    "\n",
    "Example:\n",
    "\n",
    "arr1 = [0,5,4,2,0,3]\n",
    "move_zeros(arr1) -> [5,4,2,3,0,0]"
   ]
  },
  {
   "cell_type": "code",
   "execution_count": 151,
   "metadata": {},
   "outputs": [],
   "source": [
    "def move_zeros(arr):\n",
    "    if not arr:\n",
    "        return \n",
    "    i, j = 0, 1\n",
    "    while j < len(arr):\n",
    "        if arr[j] != 0:\n",
    "            if arr[j] != arr[i]:\n",
    "                arr[i] = arr[j]\n",
    "                i += 1\n",
    "        j += 1\n",
    "    while i < len(arr):\n",
    "        arr[i] = 0\n",
    "        i += 1\n",
    "        \n",
    "    return arr\n"
   ]
  },
  {
   "cell_type": "code",
   "execution_count": 152,
   "metadata": {},
   "outputs": [
    {
     "name": "stdout",
     "output_type": "stream",
     "text": [
      "[5, 4, 2, 3, 0, 0]\n"
     ]
    }
   ],
   "source": [
    "print(move_zeros([0,5,4,2,0,3]))"
   ]
  },
  {
   "cell_type": "markdown",
   "metadata": {},
   "source": [
    "### 9. Linear Regression Parameters\n",
    "Question\n",
    "Given a matrix of X and Y values, write a function to generate a transposed matrix and estimate the parameters for linear regression.\n",
    "\n",
    "Example:\n",
    "\n",
    "Input:\n",
    "\n",
    "A = [[1, 5], [4,8], [5,9]]\n",
    "\n",
    "Output:\n",
    "\n",
    "A_T = [[1, 4, 5], [5, 8, 9]]\n",
    "\n",
    "α = 4\n",
    "\n",
    "β = 1\n",
    "\n",
    "ŷ = 1X + 4"
   ]
  },
  {
   "cell_type": "code",
   "execution_count": 162,
   "metadata": {},
   "outputs": [],
   "source": [
    "import numpy as np\n",
    "\n",
    "def transpose(arr):\n",
    "    input = np.array(arr)\n",
    "    return np.transpose(input)\n",
    "\n",
    "def linear_fit(arr):\n",
    "    a = 4\n",
    "    b = 1\n",
    "    return a* arr + b"
   ]
  },
  {
   "cell_type": "code",
   "execution_count": 164,
   "metadata": {},
   "outputs": [
    {
     "name": "stdout",
     "output_type": "stream",
     "text": [
      "[[1 4 5]\n",
      " [5 8 9]]\n",
      "[[ 5 17 21]\n",
      " [21 33 37]]\n"
     ]
    }
   ],
   "source": [
    "print(transpose([[1, 5], [4,8], [5,9]]))\n",
    "a = transpose([[1, 5], [4,8], [5,9]])\n",
    "print(linear_fit(a))"
   ]
  },
  {
   "cell_type": "markdown",
   "metadata": {},
   "source": [
    "### 10. Merge N Sorted Lists\n",
    "\n",
    "Given n sorted lists, create a combined list while maintaining sorted order.\n",
    "\n",
    "Example:\n",
    "\n",
    "A = [1,2,3,4,5,6]\n",
    "B = [2,5,7,8]\n",
    "C = [3,9,10,12]\n",
    "D = [0,1,2,8]\n",
    "\n",
    "output -> [0,1,1,2,2,3,3,4,5,5,6,7,8,8,9,10,12]"
   ]
  },
  {
   "cell_type": "code",
   "execution_count": 186,
   "metadata": {},
   "outputs": [],
   "source": [
    "def merge_n_list(arr):\n",
    "    d, result = {}, []\n",
    "    for sublist in arr:\n",
    "        for num in sublist:\n",
    "            d[num] = d.get(num, 0) + 1\n",
    "\n",
    "    for k, v in sorted(d.items()):\n",
    "        for _ in range(v):\n",
    "            result.append(k)\n",
    "\n",
    "    return result\n",
    "\n",
    "\n",
    "def merge_n_list_v2(arr):\n",
    "    d= []\n",
    "    for sublist in arr:\n",
    "        for num in sublist:\n",
    "            d.append(num)\n",
    "\n",
    "    return sorted(d)"
   ]
  },
  {
   "cell_type": "code",
   "execution_count": 187,
   "metadata": {},
   "outputs": [
    {
     "name": "stdout",
     "output_type": "stream",
     "text": [
      "[0, 1, 1, 2, 2, 2, 3, 3, 4, 5, 5, 6, 7, 8, 8, 9, 10, 12]\n",
      "[0, 1, 1, 2, 2, 2, 3, 3, 4, 5, 5, 6, 7, 8, 8, 9, 10, 12]\n"
     ]
    }
   ],
   "source": [
    "print(merge_n_list([[1,2,3,4,5,6],[2,5,7,8],[3,9,10,12],[0,1,2,8]]))\n",
    "print(merge_n_list_v2([[1,2,3,4,5,6],[2,5,7,8],[3,9,10,12],[0,1,2,8]]))"
   ]
  },
  {
   "cell_type": "markdown",
   "metadata": {},
   "source": [
    "### 11. Biggest Tip\n",
    "\n",
    "Given a list of user_ids and tips:\n",
    "\n",
    "user_ids = [103, 105, 105, 107, 106, 103, 102, 108, 107, 103, 102]\n",
    "\n",
    "tips = [2, 5, 1, 0, 2, 1, 1, 0, 0, 2, 2]\n"
   ]
  },
  {
   "cell_type": "code",
   "execution_count": 188,
   "metadata": {},
   "outputs": [],
   "source": [
    "def who_tip_max(id, tips):\n",
    "    if not id or not tips:\n",
    "        return\n",
    "    \n",
    "    max_tip = -float('inf')\n",
    "    target = None\n",
    "    for uid, tip in zip(id, tips):\n",
    "        if tip > max_tip:\n",
    "            target = uid\n",
    "            max_tip = tip\n",
    "    return target"
   ]
  },
  {
   "cell_type": "code",
   "execution_count": 190,
   "metadata": {},
   "outputs": [
    {
     "name": "stdout",
     "output_type": "stream",
     "text": [
      "User ID that tips the most:  105\n"
     ]
    }
   ],
   "source": [
    "user_ids = [103, 105, 105, 107, 106, 103, 102, 108, 107, 103, 102]\n",
    "\n",
    "tips = [2, 5, 1, 0, 2, 1, 1, 0, 0, 2, 2]\n",
    "\n",
    "print('User ID that tips the most: ', who_tip_max(user_ids,tips))"
   ]
  },
  {
   "cell_type": "markdown",
   "metadata": {},
   "source": [
    "### 12. New Resumes\n",
    "Question\n",
    "\n",
    "existing_ids = [15234, 20485, 34536, 95342, 94857]\n",
    "\n",
    "names = ['Calvin', 'Jason', 'Cindy', 'Kevin']\n",
    "\n",
    "urls = [\n",
    "    'domain.com/resume/15234', \n",
    "    'domain.com/resume/23645', \n",
    "    'domain.com/resume/64337', \n",
    "    'domain.com/resume/34536',\n",
    "]\n",
    "\n",
    "We have a list of existing ids that we have already scraped. Let's say we also have two lists, one of names and another of urls that correspond to the names in another list with the id of the names in the url.\n",
    "\n",
    "Write code in Python to return the names and ids that we haven't scraped yet.\n",
    "\n",
    "output = [('Jason', 23645), ('Cindy', 64337)]"
   ]
  },
  {
   "cell_type": "code",
   "execution_count": 222,
   "metadata": {},
   "outputs": [],
   "source": [
    "def get_unscraped(existing_ids, names, urls):\n",
    "    output = []\n",
    "    for pairs in zip(names, urls):\n",
    "        name = pairs[0]\n",
    "        split_str = pairs[1].split('/')\n",
    "        if int(split_str[-1]) not in existing_ids:\n",
    "            output.append((name, int(split_str[-1])))\n",
    "    return output"
   ]
  },
  {
   "cell_type": "code",
   "execution_count": 223,
   "metadata": {},
   "outputs": [
    {
     "name": "stdout",
     "output_type": "stream",
     "text": [
      "[('Jason', 23645), ('Cindy', 64337)]\n"
     ]
    }
   ],
   "source": [
    "existing_ids = [15234, 20485, 34536, 95342, 94857]\n",
    "names = ['Calvin', 'Jason', 'Cindy', 'Kevin']\n",
    "urls = [ 'domain.com/resume/15234', 'domain.com/resume/23645', 'domain.com/resume/64337', 'domain.com/resume/34536']\n",
    "print(get_unscraped(existing_ids, names, urls))"
   ]
  },
  {
   "cell_type": "code",
   "execution_count": null,
   "metadata": {},
   "outputs": [],
   "source": []
  },
  {
   "cell_type": "code",
   "execution_count": null,
   "metadata": {},
   "outputs": [],
   "source": []
  }
 ],
 "metadata": {
  "kernelspec": {
   "display_name": "Python 3",
   "language": "python",
   "name": "python3"
  },
  "language_info": {
   "codemirror_mode": {
    "name": "ipython",
    "version": 3
   },
   "file_extension": ".py",
   "mimetype": "text/x-python",
   "name": "python",
   "nbconvert_exporter": "python",
   "pygments_lexer": "ipython3",
   "version": "3.7.1"
  }
 },
 "nbformat": 4,
 "nbformat_minor": 2
}
